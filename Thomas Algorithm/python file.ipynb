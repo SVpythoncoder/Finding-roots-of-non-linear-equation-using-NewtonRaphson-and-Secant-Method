{
 "cells": [
  {
   "cell_type": "code",
   "execution_count": null,
   "metadata": {},
   "outputs": [],
   "source": [
    "# PYHTON CODE FOR SOLVING TRIDIAGONAL MATRIX USING THOMAS ALGORITHM\n",
    "# CREATED BY SWAPIL VERMA \n",
    "\n",
    "# IMPORTS\n",
    "import numpy as np\n",
    "\n",
    "def TDMA(a,b,c,d):\n",
    "    n = len(d)\n",
    "#     print(n)\n",
    "    w= np.zeros(n,float)\n",
    "    g= np.zeros(n, float)\n",
    "    z= np.zeros(n, float)\n",
    "    x= np.zeros(n, float)\n",
    "# W is Lambda1\n",
    "    g[0] = b[0]  #alpha\n",
    "    w[0] = 0\n",
    "    z[0] = d[0] #Betta\n",
    "    print(w[0],g[0],z[0])\n",
    "    i=1\n",
    "    while i<= n-1:\n",
    "        w[i] = a[i-1]/g[i-1]\n",
    "        g[i] = b[i] - w[i]*c[i-1]\n",
    "        z[i] = d[i] - w[i]*z[i-1]\n",
    "        print(w[i],g[i],z[i])\n",
    "        i+=1\n",
    "#         w[i] = a[i]/g[i]\n",
    "#         print(w[i])\n",
    "    \n",
    "    x[n-1]=z[n-1]/g[n-1]\n",
    "    print('x3 =',x[n-1])\n",
    "\n",
    "    for i in range(n-2,-1,-1):\n",
    "        x[i] = (z[i]-c[i]*x[i+1])/g[i]\n",
    "        print('x =',x[i])\n",
    "        \n",
    "    return x\n",
    "\n",
    "a = np.array([1,1])              #lowerdiagonal\n",
    "b = np.array([5,5,5])   #maindiagonal\n",
    "c = np.array([1,1])              #upper diagonal\n",
    "d = np.array([7,14,17])    #value given of B matrix\n",
    "\n",
    "print(TDMA(a,b,c,d))\n",
    "\n",
    "\n",
    "# CREATED BY SWAPIL VERMA \n",
    "# FOR ANY SUGGESTION OR COLLABORATION FEEL FREE TO CONTACT ME ON LINKEDIN\n",
    "# https://www.linkedin.com/in/swapil-verma-6b787a165/"
   ]
  }
 ],
 "metadata": {
  "kernelspec": {
   "display_name": "Python 3",
   "language": "python",
   "name": "python3"
  },
  "language_info": {
   "codemirror_mode": {
    "name": "ipython",
    "version": 3
   },
   "file_extension": ".py",
   "mimetype": "text/x-python",
   "name": "python",
   "nbconvert_exporter": "python",
   "pygments_lexer": "ipython3",
   "version": "3.7.6"
  }
 },
 "nbformat": 4,
 "nbformat_minor": 4
}
