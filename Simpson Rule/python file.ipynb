{
 "cells": [
  {
   "cell_type": "code",
   "execution_count": null,
   "metadata": {},
   "outputs": [],
   "source": [
    "# PYTHON CODE FOR IMPLEMENTING SIMPSON 1/3RD RULE\n",
    "# CREATED BY SWAPIL VERMA\n",
    "\n",
    "\n",
    "# IMPORTS\n",
    "import math \n",
    "import sympy as sy\n",
    "import numpy as np\n",
    "\n",
    "# MAIN BODY\n",
    "def compsimpson(f, a, b, n):\n",
    "    h = (b-a)/n\n",
    "    nodes = np.zeros(n+1)\n",
    "    for i in range(n+1):\n",
    "        nodes[i] = a+i*h\n",
    "    sum = f(a)+f(b)\n",
    "    for i in range(2, n-1, 2):\n",
    "        sum += 2*f(nodes[i])\n",
    "    for i in range(1, n, 2):\n",
    "        sum += 4*f(nodes[i])\n",
    "    return sum*h/3\n",
    "\n",
    "f= lambda x:0.2 + 25*x - 200*x**2 + 675*x**3 - 900*x**4 + 400*x**5\n",
    "a= float(input('Enter the value of a = '))\n",
    "b= float(input('Enter the value of b = '))\n",
    "n= int(input('Enter the value of n = '))\n",
    "compsimpson(f, a, b, n)\n",
    "\n",
    "\n",
    "# CREATED BY SWAPIL VERMA \n",
    "# FOR ANY SUGGESTION OR COLLABORATION FEEL FREE TO CONTACT ME ON LINKEDIN\n",
    "# https://www.linkedin.com/in/swapil-verma-6b787a165/"
   ]
  }
 ],
 "metadata": {
  "kernelspec": {
   "display_name": "Python 3",
   "language": "python",
   "name": "python3"
  },
  "language_info": {
   "codemirror_mode": {
    "name": "ipython",
    "version": 3
   },
   "file_extension": ".py",
   "mimetype": "text/x-python",
   "name": "python",
   "nbconvert_exporter": "python",
   "pygments_lexer": "ipython3",
   "version": "3.7.6"
  }
 },
 "nbformat": 4,
 "nbformat_minor": 4
}
