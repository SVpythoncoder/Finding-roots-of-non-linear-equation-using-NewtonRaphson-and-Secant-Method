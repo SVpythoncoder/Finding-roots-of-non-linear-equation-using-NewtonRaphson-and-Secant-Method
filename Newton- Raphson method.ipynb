{
 "cells": [
  {
   "cell_type": "code",
   "execution_count": 51,
   "metadata": {},
   "outputs": [
    {
     "name": "stdout",
     "output_type": "stream",
     "text": [
      "Choose 1 for Newton Raphson Method and 2 for Secant Method =2\n",
      "Write the value of Function = exp(-x)-x\n",
      "so our derivative is =  -1 - exp(-x)\n",
      "Write the no of iteration required = 20\n",
      " Write the max relative approximate error (%) = 0.05\n",
      " Write value of intial guess x0 = 0.1\n",
      " Write value of intial guess x1 = 1\n",
      "I. No \t|\tX0\t|\tX1\t\t|\tF(x0)\t\t|\tF(x1)\t\t|\tEa\t\t|\n",
      "1\t|\t0.100000|\t1.000000\t|0.804837418035960\t|-0.632120558828558\t|\t0.000000\t|\n",
      "2\t|\t1.000000|\t0.604088\t|-0.632120558828558\t|-0.0575157606946315\t|\t65.538719\t|\n",
      "3\t|\t0.604088|\t0.564459\t|-0.0575157606946315\t|0.00420868210793124\t|\t7.020751\t|\n",
      "4\t|\t0.564459|\t0.567161\t|0.00420868210793124\t|-2.79749148609509e-5\t|\t0.476429\t|\n",
      "5\t|\t0.567161|\t0.567143\t|-2.79749148609509e-5\t|-1.35933663214516e-8\t|\t0.003146\t|\n"
     ]
    },
    {
     "data": {
      "image/png": "[encoded data removed]",
      "text/plain": [
       "<Figure size 432x288 with 1 Axes>"
      ]
     },
     "metadata": {
      "needs_background": "light"
     },
     "output_type": "display_data"
    }
   ],
   "source": [
    "import matplotlib.pyplot as plt\n",
    "fig, ax = plt.subplots()\n",
    "\n",
    "\n",
    "import sympy as sy\n",
    "from sympy.abc import _clash1\n",
    "\n",
    "def func( a,x ):\n",
    "    d=a.subs('x',x)\n",
    "    return d\n",
    "\n",
    "def derivFunc( b,x ):\n",
    "    f=b.subs('x',x)\n",
    "    return f\n",
    "\n",
    "def newtonRaphson( x,a,b,c,e ): \n",
    "    fa=[]\n",
    "    fd=[]\n",
    "    i=1\n",
    "    E=0\n",
    "    print('I.No '+'|\\t'+'X'+'\\t\\t|\\t\\t'+'F(x)''\\t\\t|\\t\\t'+'F\\'(x)'+'\\t\\t|\\t'+'Ea'+'\\t\\t|')\n",
    "    while i<=c:\n",
    "        \n",
    "        if i==1:\n",
    "            print(''+str(i)+'    |\\t'+str('%6f'%x)+'\\t|\\t'+str(func(a,x))+'\\t|\\t'+str(derivFunc(b,x))+'\\t|\\t'+str('%6f'%(E))+'\\t|')\n",
    " #          plot between Func(x) vs X\n",
    "            ax.scatter(x,func(a,x))\n",
    "            # set a title and labels\n",
    "            ax.set_title('F(x) vs x')\n",
    "            ax.set_xlabel('x')\n",
    "            ax.set_ylabel('F(x)')\n",
    "            fa.append(i)\n",
    "            fd.append(E)\n",
    "            i+=1\n",
    "        else:\n",
    "            \n",
    "            h = func(a,x) / derivFunc(b,x)      \n",
    "            y= x\n",
    "            x = x - h\n",
    "            z= x\n",
    "\n",
    "            E=abs(((z-y)/z)*100)\n",
    "\n",
    "            fa.append(i)\n",
    "            fd.append(E)\n",
    "    \n",
    "            print(''+str(i)+'    |\\t'+str('%6f'%x)+'\\t|\\t'+str(func(a,x))+'\\t|\\t'+str(derivFunc(b,x))+'\\t|\\t'+str('%6f'%(E))+'\\t|')\n",
    "    #       plot between Func(x) vs X\n",
    "            ax.scatter(x,func(a,x))\n",
    "            # set a title and labels\n",
    "            ax.set_title('F(x) vs x')\n",
    "            ax.set_xlabel('x')\n",
    "            ax.set_ylabel('F(x)')\n",
    "  \n",
    "            i+=1\n",
    "\n",
    "            if E<e:\n",
    "                break\n",
    "            else:\n",
    "                continue\n",
    "    return fa,fd\n",
    "\n",
    "\n",
    "def Secant(x,x1,a,c,e):\n",
    "    fa=[]\n",
    "    fd=[]\n",
    "    i=1\n",
    "    E=0\n",
    "    print('I. No '+'\\t|\\t'+'X0'+'\\t|\\t'+'X1'+'\\t\\t|\\t'+'F(x0)''\\t\\t|\\t'+'F(x1)'+'\\t\\t|\\t'+'Ea'+'\\t\\t|')\n",
    "    \n",
    "    while i<=c:\n",
    "        \n",
    "        \n",
    "        if i==1:\n",
    "            print(''+str(i)+'\\t|\\t'+str('%6f'%x)+'|\\t'+str('%6f'%x1)+'\\t|'+str(func(a,x))+'\\t|'+str(func(a,x1))+'\\t|\\t'+str('%6f'%(E))+'\\t|')\n",
    "#         plot between Func(x) vs X\n",
    "            ax.scatter(x,func(a,x))\n",
    "            # set a title and labels\n",
    "            ax.set_title('F(x) vs x')\n",
    "            ax.set_xlabel('x')\n",
    "            ax.set_ylabel('F(x)')\n",
    "            fa.append(i)\n",
    "            fd.append(E)\n",
    "            i+=1\n",
    "\n",
    "        else: \n",
    "            \n",
    "            h=(x-x1)/(func(a,x)-func(a,x1))\n",
    "\n",
    "            x=x1\n",
    "            \n",
    "            x1=x1-(func(a,x1)*h)\n",
    "        \n",
    "            E=abs((x1-x)/x1*100)\n",
    "            \n",
    "            print(''+str(i)+'\\t|\\t'+str('%6f'%x)+'|\\t'+str('%6f'%x1)+'\\t|'+str(func(a,x))+'\\t|'+str(func(a,x1))+'\\t|\\t'+str('%6f'%(E))+'\\t|')\n",
    "            \n",
    "     #       plot between Func(x) vs X\n",
    "            ax.scatter(x,func(a,x))\n",
    "            # set a title and labels\n",
    "            ax.set_title('F(x) vs x')\n",
    "            ax.set_xlabel('x')\n",
    "            ax.set_ylabel('F(x)')\n",
    "            fa.append(i)\n",
    "            fd.append(E)\n",
    "\n",
    "            i+=1\n",
    "            if E<e:\n",
    "                break\n",
    "            else:\n",
    "                continue\n",
    "            \n",
    "            \n",
    "    return fa,fd\n",
    "            \n",
    "\n",
    "# Inputs\n",
    "p=int(input('Choose 1 for Newton Raphson Method and 2 for Secant Method ='))\n",
    "a= input(\"Write the value of Function = \")\n",
    "a=sy.sympify(a)\n",
    "b=sy.diff(a)\n",
    "print(\"so our derivative is = \",b)\n",
    "c= input(\"Write the no of iteration required = \")   \n",
    "c=int(c)\n",
    "e= input(\" Write the max relative approximate error (%) = \")\n",
    "e=float(e)\n",
    "x = input(\" Write value of intial guess x0 = \")\n",
    "x=float(x)\n",
    "if p==1:\n",
    "    \n",
    "    u,v=newtonRaphson(x,a,b,c,e)\n",
    "elif p==2:\n",
    "    \n",
    "    x1=input(\" Write value of intial guess x1 = \")\n",
    "    x1=float(x1)\n",
    "    u,v=Secant(x,x1,a,c,e)\n",
    "else:\n",
    "    print('Wrong Input')\n",
    "\n",
    "\n",
    "  \n",
    "\n"
   ]
  },
  {
   "cell_type": "code",
   "execution_count": 52,
   "metadata": {},
   "outputs": [
    {
     "data": {
      "text/plain": [
       "Text(0, 0.5, 'Relative approximate error')"
      ]
     },
     "execution_count": 52,
     "metadata": {},
     "output_type": "execute_result"
    },
    {
     "data": {
      "image/png": "[encoded data removed]",
      "text/plain": [
       "<Figure size 432x288 with 1 Axes>"
      ]
     },
     "metadata": {
      "needs_background": "light"
     },
     "output_type": "display_data"
    }
   ],
   "source": [
    "\n",
    "# create plot of Relative approximate error vs iteration number\n",
    "import matplotlib.pyplot as plt\n",
    "fig, ax = plt.subplots()\n",
    "ax.scatter(u,v)\n",
    "# set a title and labels\n",
    "ax.set_title('Relative approximate error vs iteration number')\n",
    "ax.set_xlabel('Iteration number')\n",
    "ax.set_ylabel('Relative approximate error')"
   ]
  },
  {
   "cell_type": "code",
   "execution_count": null,
   "metadata": {},
   "outputs": [],
   "source": [
    "600*x**4-550*x**3+200*x**2-20*x-1"
   ]
  },
  {
   "cell_type": "code",
   "execution_count": null,
   "metadata": {},
   "outputs": [],
   "source": [
    "exp(-x)-x"
   ]
  }
 ],
 "metadata": {
  "kernelspec": {
   "display_name": "Python 3",
   "language": "python",
   "name": "python3"
  },
  "language_info": {
   "codemirror_mode": {
    "name": "ipython",
    "version": 3
   },
   "file_extension": ".py",
   "mimetype": "text/x-python",
   "name": "python",
   "nbconvert_exporter": "python",
   "pygments_lexer": "ipython3",
   "version": "3.7.6"
  }
 },
 "nbformat": 4,
 "nbformat_minor": 4
}
