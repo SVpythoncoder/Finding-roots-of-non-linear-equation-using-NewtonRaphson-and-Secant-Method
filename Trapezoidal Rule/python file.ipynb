{
 "cells": [
  {
   "cell_type": "code",
   "execution_count": null,
   "metadata": {},
   "outputs": [],
   "source": [
    "# PYTHON CODE FOR IMPLEMENTING TRAPIZOIDAL RULE\n",
    "# CREATED BY SWAPIL VERMA\n",
    "\n",
    "# IMPORTS\n",
    "import math \n",
    "import sympy as sy\n",
    "import numpy as np\n",
    "\n",
    "# MAIN BODY\n",
    "def trap (f,a,b,n):\n",
    "    h = (b-a)/n\n",
    "    nodes = np.zeros(n+1)\n",
    "    for i in range(n+1):\n",
    "        nodes[i] = a+i*h\n",
    "    sum = f(a)+f(b)\n",
    "    for i in range(1, n):\n",
    "        sum += 2*f(nodes[i])\n",
    "    \n",
    "    return sum*h/2\n",
    "\n",
    "# INPUT THE FUCNITON\n",
    "f = lambda x:x+math.exp(x) #(Example= x + e^x)\n",
    "\n",
    "a= float(input('Enter the value of a = '))\n",
    "b= float(input('Enter the value of b = '))\n",
    "n= int(input('Enter the value of n = '))\n",
    "\n",
    "round(trap(f, a, b, n),4)\n",
    "\n",
    "\n",
    "# CREATED BY SWAPIL VERMA \n",
    "# FOR ANY SUGGESTION OR COLLABORATION FEEL FREE TO CONTACT ME ON LINKEDIN\n",
    "# https://www.linkedin.com/in/swapil-verma-6b787a165/"
   ]
  }
 ],
 "metadata": {
  "kernelspec": {
   "display_name": "Python 3",
   "language": "python",
   "name": "python3"
  },
  "language_info": {
   "codemirror_mode": {
    "name": "ipython",
    "version": 3
   },
   "file_extension": ".py",
   "mimetype": "text/x-python",
   "name": "python",
   "nbconvert_exporter": "python",
   "pygments_lexer": "ipython3",
   "version": "3.7.6"
  }
 },
 "nbformat": 4,
 "nbformat_minor": 4
}
